{
 "cells": [
  {
   "cell_type": "code",
   "execution_count": 1,
   "metadata": {},
   "outputs": [],
   "source": [
    "using PhyloClustering, PhyloNetworks, Clustering, CSV, DataFrames, JLD, SparseArrays, Suppressor, Distances, Hungarian, MLBase, LinearAlgebra"
   ]
  },
  {
   "cell_type": "code",
   "execution_count": 375,
   "metadata": {},
   "outputs": [],
   "source": [
    "tree_100_1 = jldopen(\"../../data/trees/8_diff_topo_12_100_1.jld\", \"r\") do file\n",
    "    read(file,\"tree\")\n",
    "end\n",
    "tree_100_2 = jldopen(\"../../data/trees/8_diff_topo_13_100_1.jld\", \"r\") do file\n",
    "    read(file,\"tree\")\n",
    "end\n",
    "tree_100_1  = DataFrame(tree_100_1,[string(i) for i in 0:126])\n",
    "tree_100_2  = DataFrame(tree_100_2,[string(i) for i in 0:126])\n",
    "tree_1000_1 = CSV.read(\"../../data/trees/8_diff_topo_12_1000_1.csv\", DataFrame);\n",
    "tree_1000_2 = CSV.read(\"../../data/trees/8_diff_topo_13_1000_1.csv\", DataFrame);\n",
    "tree_5000_1 = CSV.read(\"../../data/trees/8_diff_topo_12_5000_1.csv\", DataFrame);\n",
    "tree_5000_2 = CSV.read(\"../../data/trees/8_diff_topo_13_5000_1.csv\", DataFrame);"
   ]
  },
  {
   "cell_type": "code",
   "execution_count": 376,
   "metadata": {},
   "outputs": [],
   "source": [
    "tree_100 = vcat(tree_100_1,tree_100_2);\n",
    "tree_1000 = vcat(tree_1000_1,tree_1000_2);\n",
    "tree_5000 = vcat(tree_5000_1,tree_5000_2);"
   ]
  },
  {
   "cell_type": "code",
   "execution_count": 377,
   "metadata": {},
   "outputs": [],
   "source": [
    "tree_100 = standardize_tree(Matrix(tree_100));\n",
    "tree_1000 = standardize_tree(Matrix(tree_1000));\n",
    "tree_5000 = standardize_tree(Matrix(tree_5000));"
   ]
  },
  {
   "cell_type": "code",
   "execution_count": 378,
   "metadata": {},
   "outputs": [],
   "source": [
    "distance_100 = distance(tree_100);\n",
    "distance_1000 = distance(tree_1000);\n",
    "distance_5000 = distance(tree_5000);"
   ]
  },
  {
   "cell_type": "code",
   "execution_count": 379,
   "metadata": {},
   "outputs": [
    {
     "name": "stdout",
     "output_type": "stream",
     "text": [
      "  0.000909 seconds (31 allocations: 14.875 KiB)\n",
      "  0.000831 seconds (485 allocations: 771.031 KiB)\n",
      "K-means converged with 2 iterations (objv = 7543.253441070356)\n",
      "  0.013281 seconds (8.87 k allocations: 5.714 MiB)\n"
     ]
    },
    {
     "data": {
      "text/plain": [
       "([1, 1, 1, 1, 1, 1, 1, 1, 1, 1  …  1, 1, 1, 1, 1, 1, 1, 1, 1, 1], [1, 1, 1, 1, 1, 1, 1, 1, 1, 1  …  1, 1, 1, 1, 1, 1, 1, 1, 1, 1])"
      ]
     },
     "execution_count": 379,
     "metadata": {},
     "output_type": "execute_result"
    }
   ],
   "source": [
    "@suppress_err begin\n",
    "    @time kmeans_label(tree_100, 2);\n",
    "    @time hc_label(distance_100, 2);\n",
    "    @time gmm_label(tree_100, 2);\n",
    "end"
   ]
  },
  {
   "cell_type": "code",
   "execution_count": 380,
   "metadata": {},
   "outputs": [
    {
     "name": "stdout",
     "output_type": "stream",
     "text": [
      "  0.000546 seconds (31 allocations: 70.812 KiB)\n",
      "  0.071734 seconds (4.80 k allocations: 62.603 MiB)\n",
      "K-means converged with 3 iterations (objv = 123575.60915543442)\n",
      "  0.041671 seconds (12.37 k allocations: 52.877 MiB)\n"
     ]
    },
    {
     "data": {
      "text/plain": [
       "([1, 1, 1, 1, 1, 1, 1, 1, 1, 1  …  1, 1, 1, 1, 1, 1, 1, 1, 1, 1], [1, 1, 1, 1, 1, 1, 1, 1, 1, 1  …  1, 1, 1, 1, 1, 1, 1, 1, 1, 1])"
      ]
     },
     "execution_count": 380,
     "metadata": {},
     "output_type": "execute_result"
    }
   ],
   "source": [
    "@suppress_err begin\n",
    "    @time  kmeans_label(tree_1000, 2);\n",
    "    @time hc_label(distance_1000, 2);\n",
    "    @time  gmm_label(tree_1000, 2);\n",
    "end"
   ]
  },
  {
   "cell_type": "code",
   "execution_count": 381,
   "metadata": {},
   "outputs": [
    {
     "name": "stdout",
     "output_type": "stream",
     "text": [
      "  0.005612 seconds (35 allocations: 320.500 KiB)\n",
      "  4.164227 seconds (24.27 k allocations: 1.499 GiB, 0.58% gc time)\n",
      "K-means converged with 4 iterations (objv = 166274.58455114532)\n",
      "  0.437348 seconds (28.42 k allocations: 237.704 MiB, 62.78% gc time)\n"
     ]
    },
    {
     "data": {
      "text/plain": [
       "([1, 1, 1, 1, 1, 1, 1, 1, 1, 1  …  1, 1, 1, 1, 1, 1, 1, 1, 1, 1], [1, 1, 1, 1, 1, 1, 1, 1, 1, 1  …  1, 1, 1, 1, 1, 1, 1, 1, 1, 1])"
      ]
     },
     "execution_count": 381,
     "metadata": {},
     "output_type": "execute_result"
    }
   ],
   "source": [
    "@suppress_err begin\n",
    "    @time  kmeans_label(tree_5000, 2);\n",
    "    @time hc_label(distance_5000, 2);\n",
    "    @time  gmm_label(tree_5000, 2);\n",
    "end"
   ]
  },
  {
   "cell_type": "code",
   "execution_count": 480,
   "metadata": {},
   "outputs": [],
   "source": [
    "topo_4_100 = readMultiTopology(\"../../data/rawTree/4_diff_topo_1_100_1.trees\");\n",
    "topo_4_5000 = readMultiTopology(\"../../data/rawTree/4_diff_topo_1_5000_1.trees\");\n",
    "topo_8_100 = readMultiTopology(\"../../data/rawTree/8_diff_topo_1_100_1.trees\");\n",
    "topo_8_5000 = readMultiTopology(\"../../data/rawTree/8_diff_topo_1_5000_1.trees\");\n",
    "topo_16_100 = readMultiTopology(\"../../data/rawTree/16_diff_topo_1_100_1.trees\");\n",
    "topo_16_5000 = readMultiTopology(\"../../data/rawTree/16_diff_topo_1_5000_1.trees\");"
   ]
  },
  {
   "cell_type": "code",
   "execution_count": 482,
   "metadata": {},
   "outputs": [
    {
     "name": "stdout",
     "output_type": "stream",
     "text": [
      "  0.001554 seconds (18.26 k allocations: 904.969 KiB)\n",
      "  0.059148 seconds (968.13 k allocations: 45.069 MiB, 12.52% gc time)\n",
      "  0.016800 seconds (91.72 k allocations: 4.971 MiB, 70.09% gc time)\n",
      "  0.314500 seconds (4.74 M allocations: 252.612 MiB, 18.56% gc time)\n",
      "  0.330106 seconds (6.45 M allocations: 474.276 MiB, 24.16% gc time)\n",
      " 17.310758 seconds (321.89 M allocations: 23.181 GiB, 23.02% gc time)\n"
     ]
    }
   ],
   "source": [
    "@time split_weight(topo_4_100, 4);\n",
    "@time split_weight(topo_4_5000, 4);\n",
    "@time split_weight(topo_8_100, 8);\n",
    "@time split_weight(topo_8_5000, 8);\n",
    "@time split_weight(topo_16_100, 16);\n",
    "@time split_weight(topo_16_5000, 16);"
   ]
  },
  {
   "cell_type": "markdown",
   "metadata": {},
   "source": [
    "### Compare"
   ]
  },
  {
   "cell_type": "code",
   "execution_count": 4,
   "metadata": {},
   "outputs": [
    {
     "data": {
      "text/plain": [
       "accuracy (generic function with 1 method)"
      ]
     },
     "execution_count": 4,
     "metadata": {},
     "output_type": "execute_result"
    }
   ],
   "source": [
    "function ground_true(df_1, df_2)\n",
    "    a = fill(1,size(df_1)[1])\n",
    "    b = fill(2,size(df_2)[1])\n",
    "    gt = cat(a,b, dims = 1)\n",
    "    return gt\n",
    "end\n",
    "\n",
    "function accuracy(n, gt, pred)\n",
    "    matrix = confusmat(n, gt, pred)\n",
    "    # Hungarian algorithm minimizes the cost, so we need to transform the matrix\n",
    "    A = -matrix .+ maximum(matrix)    \n",
    "    matrix = matrix[:,hungarian(A)[1]]\n",
    "    x = tr(matrix)/sum(matrix)\n",
    "    return matrix, x\n",
    "end"
   ]
  },
  {
   "cell_type": "code",
   "execution_count": 483,
   "metadata": {},
   "outputs": [],
   "source": [
    "trees_1000_3 = readMultiTopology(\"../../data/rawTree/4_diff_topo_1_1000_1.trees\");\n",
    "trees_1000_4 = readMultiTopology(\"../../data/rawTree/4_diff_topo_5_1000_1.trees\");"
   ]
  },
  {
   "cell_type": "code",
   "execution_count": 484,
   "metadata": {},
   "outputs": [
    {
     "name": "stdout",
     "output_type": "stream",
     "text": [
      "  1.906814 seconds (30.26 M allocations: 870.880 MiB, 7.22% gc time)\n"
     ]
    },
    {
     "data": {
      "text/plain": [
       "([957 43; 73 927], 0.942)"
      ]
     },
     "execution_count": 484,
     "metadata": {},
     "output_type": "execute_result"
    }
   ],
   "source": [
    "@time begin\n",
    "    trees_3 = split_weight(trees_1000_3, 4);\n",
    "    trees_4 = split_weight(trees_1000_4, 4);\n",
    "    trees = vcat(trees_3, trees_4)\n",
    "    distance_matrix = zeros(2000, 2000)\n",
    "    for i in 1:2000\n",
    "        for j in i:2000\n",
    "            distance_matrix[i,j] = euclidean(trees[i,:], trees[j,:])\n",
    "            distance_matrix[j,i] = distance_matrix[i,j]\n",
    "        end\n",
    "    end\n",
    "end\n",
    "\n",
    "gt = ground_true(trees_1000_3, trees_1000_4);\n",
    "label = hc_label(distance_matrix, 2);\n",
    "accuracy(2, gt, label)"
   ]
  },
  {
   "cell_type": "code",
   "execution_count": 486,
   "metadata": {},
   "outputs": [
    {
     "name": "stdout",
     "output_type": "stream",
     "text": [
      " 11.192609 seconds (87.49 M allocations: 5.295 GiB, 7.11% gc time)\n"
     ]
    },
    {
     "data": {
      "text/plain": [
       "([914 86; 60 940], 0.927)"
      ]
     },
     "execution_count": 486,
     "metadata": {},
     "output_type": "execute_result"
    }
   ],
   "source": [
    "# Pairwise distance between trees in trees_2000\n",
    "@time begin\n",
    "    trees_2000 = reduce(vcat, (trees_1000_3, trees_1000_4));\n",
    "    matrix = zeros(2000, 2000)\n",
    "    for i in 1:2000\n",
    "        for j in i:2000\n",
    "            matrix[i,j] = hardwiredClusterDistance(trees_2000[i], trees_2000[j], true)\n",
    "            matrix[j,i] = matrix[i,j]\n",
    "        end\n",
    "    end\n",
    "end\n",
    "\n",
    "label = hc_label(matrix, 2);\n",
    "randindex(gt, label)[1]\n",
    "accuracy(2, gt, label)"
   ]
  },
  {
   "cell_type": "code",
   "execution_count": 487,
   "metadata": {},
   "outputs": [],
   "source": [
    "trees_1000_3 = readMultiTopology(\"../../data/rawTree/8_diff_topo_1_1000_1.trees\");\n",
    "trees_1000_4 = readMultiTopology(\"../../data/rawTree/8_diff_topo_5_1000_1.trees\");"
   ]
  },
  {
   "cell_type": "code",
   "execution_count": 488,
   "metadata": {},
   "outputs": [
    {
     "name": "stdout",
     "output_type": "stream",
     "text": [
      "  5.929103 seconds (31.77 M allocations: 4.572 GiB, 11.91% gc time)\n"
     ]
    },
    {
     "data": {
      "text/plain": [
       "([998 2; 6 994], 0.996)"
      ]
     },
     "execution_count": 488,
     "metadata": {},
     "output_type": "execute_result"
    }
   ],
   "source": [
    "@time begin\n",
    "    trees_3 = split_weight(trees_1000_3, 8);\n",
    "    trees_4 = split_weight(trees_1000_4, 8);\n",
    "    trees = vcat(trees_3, trees_4)\n",
    "    distance_matrix = zeros(2000, 2000)\n",
    "    for i in 1:2000\n",
    "        for j in i:2000\n",
    "            distance_matrix[i,j] = euclidean(trees[i,:], trees[j,:])\n",
    "            distance_matrix[j,i] = distance_matrix[i,j]\n",
    "        end\n",
    "    end\n",
    "end\n",
    "\n",
    "gt = ground_true(trees_1000_3, trees_1000_4);\n",
    "label = hc_label(distance_matrix, 2);\n",
    "accuracy(2, gt, label)"
   ]
  },
  {
   "cell_type": "code",
   "execution_count": 490,
   "metadata": {},
   "outputs": [
    {
     "name": "stdout",
     "output_type": "stream",
     "text": [
      " 37.146473 seconds (259.03 M allocations: 25.557 GiB, 8.76% gc time)\n"
     ]
    },
    {
     "data": {
      "text/plain": [
       "([1000 0; 1 999], 0.9995)"
      ]
     },
     "execution_count": 490,
     "metadata": {},
     "output_type": "execute_result"
    }
   ],
   "source": [
    "# Pairwise distance between trees in trees_2000\n",
    "@time begin\n",
    "    trees_2000 = reduce(vcat, (trees_1000_3, trees_1000_4));\n",
    "    matrix = zeros(2000, 2000)\n",
    "    for i in 1:2000\n",
    "        for j in i:2000\n",
    "            matrix[i,j] = hardwiredClusterDistance(trees_2000[i], trees_2000[j], true)\n",
    "            matrix[j,i] = matrix[i,j]\n",
    "        end\n",
    "    end\n",
    "end\n",
    "\n",
    "label = hc_label(matrix, 2);\n",
    "accuracy(2, gt, label)"
   ]
  },
  {
   "cell_type": "markdown",
   "metadata": {},
   "source": [
    "### Imbalanced Data"
   ]
  },
  {
   "cell_type": "code",
   "execution_count": 348,
   "metadata": {},
   "outputs": [],
   "source": [
    "trees_1 = vcat(tree_100_1, tree_1000_2);\n",
    "trees_1 = standardize_tree(Matrix(trees_1));\n",
    "gt_1 = ground_true(tree_100_1, tree_1000_2);\n",
    "trees_2 = vcat(tree_1000_1, tree_5000_2);\n",
    "trees_2 = standardize_tree(Matrix(trees_2));\n",
    "gt_2 = ground_true(tree_1000_1, tree_5000_2);"
   ]
  },
  {
   "cell_type": "code",
   "execution_count": 349,
   "metadata": {},
   "outputs": [
    {
     "name": "stdout",
     "output_type": "stream",
     "text": [
      "K-means converged with 2 iterations (objv = 53744.243875040265)\n",
      "K-means converged with 2 iterations (objv = 53854.066190899684)\n",
      "K-means converged with 2 iterations (objv = 53831.31953511836)\n",
      "K-means converged with 2 iterations (objv = 53967.24674868098)\n"
     ]
    },
    {
     "name": "stdout",
     "output_type": "stream",
     "text": [
      "K-means converged with 5 iterations (objv = 52220.1657578649)\n",
      "K-means converged with 12 iterations (objv = 52479.9214701662)\n",
      "K-means converged with 16 iterations (objv = 52480.056789688664)\n",
      "K-means converged with 2 iterations (objv = 53394.12508940341)\n",
      "K-means converged with 14 iterations (objv = 53257.235117451855)\n",
      "K-means converged with 2 iterations (objv = 54043.57337562963)\n",
      "Kmeans: 0.9668381635085826\n",
      "GMM: 0\n",
      "HC: 0.9082465689958767\n"
     ]
    }
   ],
   "source": [
    "@suppress_err begin\n",
    "    high_k = 0\n",
    "    high_g = 0\n",
    "    for i in 1:10\n",
    "        label_k = kmeans_label(trees_1, 2);\n",
    "        label_g, _ = gmm_label(trees_1, 2);\n",
    "        k = randindex(gt_1, label_k)[1]\n",
    "        g = randindex(gt_1, label_g)[1]\n",
    "        if k > high_k\n",
    "            high_k = k\n",
    "        end  \n",
    "        if g > high_g\n",
    "            high_g = g\n",
    "        end\n",
    "    end\n",
    "    label_h = hc_label(distance(trees_1), 2);\n",
    "    high_h = randindex(gt_1, label_h)[1]\n",
    "    print(\"Kmeans: \", high_k, \"\\n\")\n",
    "    print(\"GMM: \", high_g, \"\\n\")\n",
    "    print(\"HC: \", high_h, \"\\n\")\n",
    "end\n"
   ]
  },
  {
   "cell_type": "code",
   "execution_count": 350,
   "metadata": {},
   "outputs": [
    {
     "name": "stdout",
     "output_type": "stream",
     "text": [
      "K-means converged with 2 iterations (objv = 119285.49975679301)\n",
      "K-means converged with 31 iterations (objv = 139588.45141041756)\n",
      "K-means converged with 13 iterations (objv = 146031.86721906636)\n",
      "K-means converged with 4 iterations (objv = 158394.91811491392)\n",
      "K-means converged with 2 iterations (objv = 132774.15774579748)\n",
      "K-means converged with 2 iterations (objv = 144819.708595497)\n",
      "K-means converged with 2 iterations (objv = 121266.73584726526)\n",
      "K-means converged with 35 iterations (objv = 138437.8376340382)\n",
      "K-means converged with 14 iterations (objv = 133927.67256806165)\n",
      "K-means converged with 2 iterations (objv = 133454.65845988446)\n",
      "Kmeans: 0.952254595835525\n",
      "GMM: 0\n",
      "HC: 0.9209969830160794\n"
     ]
    }
   ],
   "source": [
    "@suppress_err begin\n",
    "    high_k = 0\n",
    "    high_g = 0\n",
    "    for i in 1:10\n",
    "        label_k = kmeans_label(trees_2, 2);\n",
    "        label_g, _ = gmm_label(trees_2, 2);\n",
    "        k = randindex(gt_2, label_k)[1]\n",
    "        g = randindex(gt_2, label_g)[1]\n",
    "        if k > high_k\n",
    "            high_k = k\n",
    "        end  \n",
    "        if g > high_g\n",
    "            high_g = g\n",
    "        end\n",
    "    end\n",
    "    label_h = hc_label(distance(trees_2), 2);\n",
    "    high_h = randindex(gt_2, label_h)[1]\n",
    "    print(\"Kmeans: \", high_k, \"\\n\")\n",
    "    print(\"GMM: \", high_g, \"\\n\")\n",
    "    print(\"HC: \", high_h, \"\\n\")\n",
    "end"
   ]
  },
  {
   "cell_type": "code",
   "execution_count": 2,
   "metadata": {},
   "outputs": [],
   "source": [
    "tree_100_1 = CSV.read(\"../../data/trees/4_diff_topo_1_100_1.csv\", DataFrame);\n",
    "tree_100_2 = CSV.read(\"../../data/trees/4_diff_topo_5_100_1.csv\", DataFrame);\n",
    "tree_1000_1 = CSV.read(\"../../data/trees/4_diff_topo_1_1000_1.csv\", DataFrame);\n",
    "tree_1000_2 = CSV.read(\"../../data/trees/4_diff_topo_5_1000_1.csv\", DataFrame);\n",
    "tree_5000_1 = CSV.read(\"../../data/trees/4_diff_topo_1_5000_1.csv\", DataFrame);\n",
    "tree_5000_2 = CSV.read(\"../../data/trees/4_diff_topo_5_5000_1.csv\", DataFrame);"
   ]
  },
  {
   "cell_type": "code",
   "execution_count": 5,
   "metadata": {},
   "outputs": [],
   "source": [
    "trees_1 = vcat(tree_100_1, tree_1000_2);\n",
    "trees_1 = standardize_tree(Matrix(trees_1));\n",
    "gt_1 = ground_true(tree_100_1, tree_1000_2);\n",
    "trees_2 = vcat(tree_1000_1, tree_5000_2);\n",
    "trees_2 = standardize_tree(Matrix(trees_2));\n",
    "gt_2 = ground_true(tree_1000_1, tree_5000_2);"
   ]
  },
  {
   "cell_type": "code",
   "execution_count": 6,
   "metadata": {},
   "outputs": [
    {
     "name": "stdout",
     "output_type": "stream",
     "text": [
      "K-means converged with 24 iterations (objv = 5752.844794826464)\n",
      "K-means converged with 10 iterations (objv = 5752.845767301914)\n",
      "K-means converged with 8 iterations (objv = 5752.845767301914)\n",
      "K-means converged with 19 iterations (objv = 5752.844794826464)\n",
      "K-means converged with 7 iterations (objv = 5752.844794826464)\n",
      "K-means converged with 22 iterations (objv = 5752.844794826464)\n",
      "K-means converged with 20 iterations (objv = 5752.844794826464)\n",
      "K-means converged with 4 iterations (objv = 6564.915570090179)\n",
      "K-means converged with 8 iterations (objv = 5752.845767301914)\n",
      "K-means converged with 22 iterations (objv = 5752.844794826464)\n",
      "Kmeans: 0.32581356865411054\n",
      "GMM: 0.5703676242832509\n",
      "HC: 0.3761479399059546\n"
     ]
    }
   ],
   "source": [
    "@suppress_err begin\n",
    "    high_k = 0\n",
    "    high_g = 0\n",
    "    for i in 1:10\n",
    "        label_k = kmeans_label(trees_1, 2);\n",
    "        label_g, _ = gmm_label(trees_1, 2);\n",
    "        k = randindex(gt_1, label_k)[1]\n",
    "        g = randindex(gt_1, label_g)[1]\n",
    "        if k > high_k\n",
    "            high_k = k\n",
    "        end  \n",
    "        if g > high_g\n",
    "            high_g = g\n",
    "        end\n",
    "    end\n",
    "    label_h = hc_label(distance(trees_1), 2);\n",
    "    high_h = randindex(gt_1, label_h)[1]\n",
    "    print(\"Kmeans: \", high_k, \"\\n\")\n",
    "    print(\"GMM: \", high_g, \"\\n\")\n",
    "    print(\"HC: \", high_h, \"\\n\")\n",
    "end\n"
   ]
  },
  {
   "cell_type": "code",
   "execution_count": 7,
   "metadata": {},
   "outputs": [
    {
     "name": "stdout",
     "output_type": "stream",
     "text": [
      "K-means converged with 13 iterations (objv = 10230.301252330677)\n",
      "K-means converged with 20 iterations (objv = 11372.279698075545)\n",
      "K-means converged with 23 iterations (objv = 9531.982053410375)\n",
      "K-means converged with 6 iterations (objv = 12187.245960275122)\n",
      "K-means converged with 16 iterations (objv = 10902.616385361476)\n",
      "K-means converged with 11 iterations (objv = 11072.970862952816)\n",
      "K-means converged with 17 iterations (objv = 10223.499961788828)\n",
      "K-means converged with 11 iterations (objv = 10257.140043230158)\n",
      "K-means converged with 8 iterations (objv = 13483.416207308499)\n",
      "K-means converged with 7 iterations (objv = 12190.136777073241)\n",
      "Kmeans: 0.4061613897317699\n",
      "GMM: 0.6720767445910563\n",
      "HC: 0.3986519096443959\n"
     ]
    }
   ],
   "source": [
    "@suppress_err begin\n",
    "    high_k = 0\n",
    "    high_g = 0\n",
    "    for i in 1:10\n",
    "        label_k = kmeans_label(trees_2, 2);\n",
    "        label_g, _ = gmm_label(trees_2, 2);\n",
    "        k = randindex(gt_2, label_k)[1]\n",
    "        g = randindex(gt_2, label_g)[1]\n",
    "        if k > high_k\n",
    "            high_k = k\n",
    "        end  \n",
    "        if g > high_g\n",
    "            high_g = g\n",
    "        end\n",
    "    end\n",
    "    label_h = hc_label(distance(trees_2), 2);\n",
    "    high_h = randindex(gt_2, label_h)[1]\n",
    "    print(\"Kmeans: \", high_k, \"\\n\")\n",
    "    print(\"GMM: \", high_g, \"\\n\")\n",
    "    print(\"HC: \", high_h, \"\\n\")\n",
    "end"
   ]
  },
  {
   "cell_type": "markdown",
   "metadata": {},
   "source": [
    "### Rand index"
   ]
  },
  {
   "cell_type": "code",
   "execution_count": 263,
   "metadata": {},
   "outputs": [
    {
     "data": {
      "text/plain": [
       "rep_kmeans_matrix (generic function with 1 method)"
      ]
     },
     "execution_count": 263,
     "metadata": {},
     "output_type": "execute_result"
    }
   ],
   "source": [
    "function rep_kmeans_matrix(trees, path)\n",
    "    n = length(trees)\n",
    "    result = zeros(n, n)\n",
    "    for i in 2:n\n",
    "        for j in  1:(i - 1)\n",
    "            gt = ground_true(trees[i],trees[j])\n",
    "            tree = vcat(trees[i],trees[j])\n",
    "            tree = standardize_tree(Matrix(tree))\n",
    "            for k in 1:10\n",
    "                pred_kmeans = kmeans_label(tree, 2) \n",
    "                x = randindex(gt, pred_kmeans)[1]\n",
    "                if x > result[i,j]\n",
    "                    result[i,j] = x\n",
    "                    result[j,i] = x\n",
    "                end\n",
    "            end\n",
    "        end\n",
    "    end      \n",
    "    header = Vector(1:n)\n",
    "    header = string.(header)\n",
    "    CSV.write(path, DataFrame(result, :auto),header = header);\n",
    "end"
   ]
  },
  {
   "cell_type": "code",
   "execution_count": 269,
   "metadata": {},
   "outputs": [],
   "source": [
    "for i in 1:100\n",
    "    trees = []\n",
    "    for j in 1:15      \n",
    "        path = \"../../data/trees/8_diff_topo_\" * string(j) *  \"_1000_\" * string(i) * \".csv\"\n",
    "        tree = CSV.read(path, DataFrame);\n",
    "        push!(trees, tree)\n",
    "    end\n",
    "    rep_kmeans_matrix(trees, \"../../data/result/randindex/kmeans_8_diff_topo_1000_\" *string(i)* \".csv\");\n",
    "end"
   ]
  },
  {
   "cell_type": "code",
   "execution_count": null,
   "metadata": {},
   "outputs": [],
   "source": []
  }
 ],
 "metadata": {
  "kernelspec": {
   "display_name": "Julia 1.10.0",
   "language": "julia",
   "name": "julia-1.10"
  },
  "language_info": {
   "file_extension": ".jl",
   "mimetype": "application/julia",
   "name": "julia",
   "version": "1.10.0"
  }
 },
 "nbformat": 4,
 "nbformat_minor": 2
}
